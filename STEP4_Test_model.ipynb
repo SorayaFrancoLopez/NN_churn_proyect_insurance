{
  "nbformat": 4,
  "nbformat_minor": 0,
  "metadata": {
    "colab": {
      "provenance": [],
      "toc_visible": true,
      "authorship_tag": "ABX9TyP7iNpiA6dwpwj8l1Kgi79v",
      "include_colab_link": true
    },
    "kernelspec": {
      "name": "python3",
      "display_name": "Python 3"
    },
    "language_info": {
      "name": "python"
    }
  },
  "cells": [
    {
      "cell_type": "markdown",
      "metadata": {
        "id": "view-in-github",
        "colab_type": "text"
      },
      "source": [
        "<a href=\"https://colab.research.google.com/github/SorayaFrancoLopez/NN_churn_proyect_insurance/blob/main/STEP4_Test_model.ipynb\" target=\"_parent\"><img src=\"https://colab.research.google.com/assets/colab-badge.svg\" alt=\"Open In Colab\"/></a>"
      ]
    },
    {
      "cell_type": "code",
      "execution_count": 1,
      "metadata": {
        "colab": {
          "base_uri": "https://localhost:8080/"
        },
        "id": "hjm6Qvl2csr8",
        "outputId": "08c449ab-2018-418c-b8be-7871e03a065f"
      },
      "outputs": [
        {
          "output_type": "stream",
          "name": "stdout",
          "text": [
            "Drive already mounted at /content/drive; to attempt to forcibly remount, call drive.mount(\"/content/drive\", force_remount=True).\n"
          ]
        }
      ],
      "source": [
        "import pandas as pd\n",
        "import numpy as np\n",
        "import matplotlib.pyplot as plt\n",
        "import seaborn as sns\n",
        "from sklearn.model_selection import train_test_split\n",
        "import joblib\n",
        "from joblib import dump\n",
        "from google.colab import drive\n",
        "\n",
        "\n",
        "drive.mount('/content/drive')\n",
        "df = pd.read_csv(\"/content/drive/MyDrive/Churn Rate Algorithm/dfclean.csv\", delimiter=',', encoding='latin1')\n",
        "\n",
        "# Seleccionar columnas\n",
        "columnas_seleccionadas = ['PrimasPagadas_Menos1', 'Edad', 'PrimasPagadas_Menos2',\n",
        "                         'sCodPostal', 'PrimasPagadas_Menos3', 'Num_Pol_Vigor_Menos1',\n",
        "                         'AnosCliente', 'SEXO', 'Num_Pol_Vigor_Menos2', 'Num_Pol_Vigor_Menos3','target']\n",
        "\n",
        "df = df[columnas_seleccionadas]\n",
        "\n",
        "df = df.sort_index(axis=1) #Ordenamos las columnas por orden alfabetico"
      ]
    },
    {
      "cell_type": "markdown",
      "source": [
        "Es importante ordenar las columnas. Los datos de entrada al modelo tienen que estar en el mismo orden que se entrenó."
      ],
      "metadata": {
        "id": "gsmDKUdQsG_a"
      }
    },
    {
      "cell_type": "code",
      "source": [
        "X_test = df.drop(columns=['target'])\n",
        "y_test = df['target']\n",
        "\n",
        "# Cargar el modelo entrenado\n",
        "modelo_entrenado = joblib.load('/content/drive/MyDrive/Churn Rate Algorithm/prediccion_clientes.pkl')\n",
        "\n",
        "y_pred = modelo_entrenado.predict(X_test)\n",
        "y_pred_proba = modelo_entrenado.predict_proba(X_test)[:, 1]\n",
        "\n",
        "# indicar si la predicción es correcta o no\n",
        "df['Prediccion_Correcta'] = np.where(y_pred == y_test, True, False)"
      ],
      "metadata": {
        "id": "CBRF2J-LfJEQ"
      },
      "execution_count": 2,
      "outputs": []
    },
    {
      "cell_type": "markdown",
      "source": [
        "# Utiliza el método predict() para hacer predicciones utilizando el modelo entrenado.\n",
        "# Esto toma un conjunto de datos de entrada y devuelve las predicciones correspondientes.\n"
      ],
      "metadata": {
        "id": "QdCBb3eqtW84"
      }
    },
    {
      "cell_type": "code",
      "source": [
        "conteo_predicciones = df['Prediccion_Correcta'].value_counts()\n",
        "print(conteo_predicciones)"
      ],
      "metadata": {
        "colab": {
          "base_uri": "https://localhost:8080/"
        },
        "id": "uhu1QjAfgbHv",
        "outputId": "f133e1be-c3a0-430c-dbf6-7d85f9b4a2d1"
      },
      "execution_count": 4,
      "outputs": [
        {
          "output_type": "stream",
          "name": "stdout",
          "text": [
            "True     15658\n",
            "False      520\n",
            "Name: Prediccion_Correcta, dtype: int64\n"
          ]
        }
      ]
    },
    {
      "cell_type": "markdown",
      "source": [
        "# Los datos pueden ser pasados al modelo tanto como un DataFrame de pandas como un array de NumPy.\n",
        "# Asegúrate de que la estructura de datos que pases al modelo tenga la misma estructura que los datos con los que fue entrenado el modelo, en términos de número y orden de características.\n"
      ],
      "metadata": {
        "id": "n4zL5FaXs1dZ"
      }
    }
  ]
}