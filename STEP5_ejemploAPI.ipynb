{
  "nbformat": 4,
  "nbformat_minor": 0,
  "metadata": {
    "colab": {
      "provenance": [],
      "toc_visible": true,
      "authorship_tag": "ABX9TyPQ81It+kgdZ7EA3bxTQKcZ",
      "include_colab_link": true
    },
    "kernelspec": {
      "name": "python3",
      "display_name": "Python 3"
    },
    "language_info": {
      "name": "python"
    }
  },
  "cells": [
    {
      "cell_type": "markdown",
      "metadata": {
        "id": "view-in-github",
        "colab_type": "text"
      },
      "source": [
        "<a href=\"https://colab.research.google.com/github/SorayaFrancoLopez/NN_churn_proyect_insurance/blob/main/STEP5_ejemploAPI.ipynb\" target=\"_parent\"><img src=\"https://colab.research.google.com/assets/colab-badge.svg\" alt=\"Open In Colab\"/></a>"
      ]
    },
    {
      "cell_type": "code",
      "source": [
        "from flask import Flask, request, jsonify\n",
        "import numpy as np\n",
        "import joblib\n",
        "\n",
        "# Cargar el modelo entrenado\n",
        "modelo = joblib.load('prediccion_clientes.pkl')\n",
        "\n",
        "# Inicializar la aplicación.\n",
        "app = Flask(__name__)\n",
        "\n",
        "# Definir una ruta para manejar las solicitudes POST\n",
        "@app.route('/predict', methods=['POST'])\n",
        "\n",
        "def predict():\n",
        "    # Obtener los datos de entrada de la solicitud\n",
        "    data = request.json\n",
        "\n",
        "    # Convertir los datos en un array de NumPy\n",
        "    array_de_datos = np.array([data['AnosCliente'],\n",
        "                               data['Edad'],\n",
        "                               data['Num_Pol_Vigor_Menos1'],\n",
        "                               data['Num_Pol_Vigor_Menos2'],\n",
        "                               data['Num_Pol_Vigor_Menos3'],\n",
        "                               data['PrimasPagadas_Menos1'],\n",
        "                               data['PrimasPagadas_Menos2'],\n",
        "                               data['PrimasPagadas_Menos3'],\n",
        "                               data['SEXO'],\n",
        "                               ata['sCodPostal']]\n",
        "                              ) #IMPORTANTE QUE ESTÉN ORDENADOS DE ESTA FORMA.\n",
        "\n",
        "    # Hacer una predicción con el modelo\n",
        "    prediccion = modelo.predict(array_de_datos.reshape(1, -1))\n",
        "\n",
        "    # Devolver la predicción en formato JSON\n",
        "    return jsonify({'prediccion': prediccion[0]})\n",
        "\n",
        "# Ejecutar la aplicación Flask\n",
        "if __name__ == '__main__':\n",
        "    app.run(debug=True)"
      ],
      "metadata": {
        "id": "RLCsuzLAuOSo"
      },
      "execution_count": null,
      "outputs": []
    },
    {
      "cell_type": "markdown",
      "source": [
        "array_de_datos.reshape(1, -1): Antes de hacer una predicción, necesitas asegurarte de que los datos de entrada tengan la forma correcta. En este caso, array_de_datos es un array unidimensional que contiene las características de una sola muestra. Sin embargo, el método predict() espera que los datos de entrada tengan la forma de una matriz bidimensional donde cada fila representa una muestra y cada columna representa una característica. La función reshape(1, -1) se utiliza aquí para transformar el array unidimensional en una matriz bidimensional con una sola fila (-1 indica que NumPy debe inferir el tamaño de la segunda dimensión en función de la longitud total del array).\n",
        "\n",
        "modelo.predict(...): Una vez que los datos de entrada tienen la forma correcta, puedes llamar al método predict() del modelo (modelo) para hacer la predicción. Este método toma los datos de entrada y devuelve la predicción correspondiente."
      ],
      "metadata": {
        "id": "cmYVMvhcu4oo"
      }
    }
  ]
}