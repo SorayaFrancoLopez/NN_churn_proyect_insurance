{
  "nbformat": 4,
  "nbformat_minor": 0,
  "metadata": {
    "colab": {
      "provenance": []
    },
    "kernelspec": {
      "name": "python3",
      "display_name": "Python 3"
    },
    "language_info": {
      "name": "python"
    }
  },
  "cells": [
    {
      "cell_type": "code",
      "source": [
        "from google.colab import drive\n",
        "drive.mount('/content/drive')"
      ],
      "metadata": {
        "colab": {
          "base_uri": "https://localhost:8080/"
        },
        "id": "-PgG5z0XeTfT",
        "outputId": "8bed6389-bb70-4169-df46-5a6b565f98bf"
      },
      "execution_count": null,
      "outputs": [
        {
          "output_type": "stream",
          "name": "stdout",
          "text": [
            "Drive already mounted at /content/drive; to attempt to forcibly remount, call drive.mount(\"/content/drive\", force_remount=True).\n"
          ]
        }
      ]
    },
    {
      "cell_type": "code",
      "source": [
        "from sklearn.preprocessing import StandardScaler\n",
        "from sklearn.decomposition import PCA\n",
        "import tensorflow as tf\n",
        "\n",
        "import pandas as pd\n",
        "import numpy as np"
      ],
      "metadata": {
        "id": "jZme8dQweWlR"
      },
      "execution_count": null,
      "outputs": []
    },
    {
      "cell_type": "code",
      "source": [
        "# Cargar los datos desde el archivo CSV\n",
        "ruta_datos = '/content/drive/MyDrive/Churn Rate Algorithm/Data/prueba.csv'\n",
        "datos = pd.read_csv(ruta_datos, delimiter=';')"
      ],
      "metadata": {
        "id": "LPSwhItrgf_5"
      },
      "execution_count": null,
      "outputs": []
    },
    {
      "cell_type": "code",
      "source": [
        "# Modelo cargado\n",
        "ruta_modelo = '/content/drive/MyDrive/Churn Rate Algorithm/modelo_entrenado.h5'\n",
        "modelo_cargado = tf.keras.models.load_model(ruta_modelo)"
      ],
      "metadata": {
        "id": "9J5Yp5SoKmIB"
      },
      "execution_count": null,
      "outputs": []
    },
    {
      "cell_type": "code",
      "source": [
        "columnas_importantes = ['num_poliza_vigor_2021', 'num_poliza_vigor_2020',\n",
        "       'num_poliza_vigor_2022', 'num_poliza_vigor_2019', 'num_recibos_2022',\n",
        "       'num_poliza_vigor_2023', 'num_recibos_2021', 'num_recibos_2023',\n",
        "       'num_recibos_2020', 'num_recibos_2019']"
      ],
      "metadata": {
        "id": "clNkRb9Skb6_"
      },
      "execution_count": null,
      "outputs": []
    },
    {
      "cell_type": "code",
      "source": [
        "scaler = StandardScaler()"
      ],
      "metadata": {
        "id": "DTOsSqFe5Up2"
      },
      "execution_count": null,
      "outputs": []
    },
    {
      "cell_type": "code",
      "source": [
        "X = datos[columnas_importantes].copy()\n",
        "X_transform = scaler.fit_transform(X)"
      ],
      "metadata": {
        "id": "FNXLE3Cq48C3"
      },
      "execution_count": null,
      "outputs": []
    },
    {
      "cell_type": "code",
      "execution_count": null,
      "metadata": {
        "colab": {
          "base_uri": "https://localhost:8080/"
        },
        "id": "9pnhCraTd2WZ",
        "outputId": "3e07c6eb-0634-4579-d687-d5cfa1871197"
      },
      "outputs": [
        {
          "output_type": "stream",
          "name": "stdout",
          "text": [
            "1/1 [==============================] - 0s 104ms/step\n",
            "[[0.61032087]\n",
            " [0.61032087]\n",
            " [0.61032087]\n",
            " [0.61032087]\n",
            " [0.61032087]\n",
            " [0.61032087]\n",
            " [0.61032087]\n",
            " [0.005082  ]\n",
            " [0.61032087]]\n"
          ]
        }
      ],
      "source": [
        "# Hacer predicciones con el modelo cargado\n",
        "predicciones = modelo_cargado.predict(X_transform)\n",
        "\n",
        "# Imprimir las predicciones\n",
        "print(predicciones)"
      ]
    },
    {
      "cell_type": "code",
      "source": [
        "umbral = 0.5\n",
        "clases_predichas = (predicciones > umbral).astype(int)"
      ],
      "metadata": {
        "id": "g-vFbq60MCpQ"
      },
      "execution_count": null,
      "outputs": []
    },
    {
      "cell_type": "code",
      "source": [
        "clases_predichas"
      ],
      "metadata": {
        "colab": {
          "base_uri": "https://localhost:8080/"
        },
        "id": "0ASwZohaMxsl",
        "outputId": "97b1217a-71bb-4837-9388-9a963b5b5bfd"
      },
      "execution_count": null,
      "outputs": [
        {
          "output_type": "execute_result",
          "data": {
            "text/plain": [
              "array([[1],\n",
              "       [1],\n",
              "       [1],\n",
              "       [1],\n",
              "       [1],\n",
              "       [1],\n",
              "       [1],\n",
              "       [0],\n",
              "       [1]])"
            ]
          },
          "metadata": {},
          "execution_count": 42
        }
      ]
    }
  ]
}